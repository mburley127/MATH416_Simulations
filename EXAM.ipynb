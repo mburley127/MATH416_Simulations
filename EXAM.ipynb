{
 "cells": [
  {
   "cell_type": "code",
   "execution_count": 1,
   "metadata": {},
   "outputs": [],
   "source": [
    "### Load in Necessary Libraries\n",
    "\n",
    "import numpy as np\n",
    "import matplotlib.pyplot as plt\n",
    "import pandas as pd\n",
    "from scipy import random\n",
    "import math\n",
    "from scipy.integrate import quad, dblquad"
   ]
  },
  {
   "cell_type": "code",
   "execution_count": 14,
   "metadata": {},
   "outputs": [
    {
     "name": "stdout",
     "output_type": "stream",
     "text": [
      "The value calculated by monte carlo integration is: 0.5008114800920632\n",
      "The actual answer is: 0.5000000000000001\n"
     ]
    }
   ],
   "source": [
    "### Q1\n",
    "### Use simulation to compute int(0, inf) x/(1+x^2)^2 dx and find the actual answer\n",
    "\n",
    "# Set limits of integration, and the number of trials\n",
    "a = 0\n",
    "b = 1\n",
    "c = 0\n",
    "d = np.inf\n",
    "N = 100000\n",
    "\n",
    "## Calculate MC Integration Answer\n",
    "\n",
    "# Create an array of zeros of length N\n",
    "ar = np.zeros(N)\n",
    "# Filling each value of the array with generated random numbers\n",
    "for i in range (len(ar)):\n",
    "    ar[i] = random.uniform(a,b)\n",
    "# Variable to store sum of the functions of different values of y\n",
    "integral = 0.0\n",
    "# Input and return the desired function inside the integral\n",
    "def f(y):\n",
    "    return (((1-y)*y) / ((2*(y*y)-2*y+1)*(2*(y*y)-2*y+1)))\n",
    "# Iterate and sum up values of different functions of y\n",
    "for i in ar:\n",
    "    integral += f(i)\n",
    "# Generate calculated Monte Carlo Integration Answer\n",
    "ans_mc = (b-a)/float(N)*integral\n",
    "print (\"The value calculated by monte carlo integration is: {}\".format(ans_mc))\n",
    "\n",
    "\n",
    "## Calculate actual answer\n",
    "def integrand(x):\n",
    "    return x/((1+(x*x))*(1+(x*x)))\n",
    "\n",
    "ans, err = quad(integrand, c, d)\n",
    "\n",
    "ans = str(ans)\n",
    "print(\"The actual answer is: \" + ans)"
   ]
  }
 ],
 "metadata": {
  "kernelspec": {
   "display_name": "Python 3.8.5 ('base')",
   "language": "python",
   "name": "python3"
  },
  "language_info": {
   "codemirror_mode": {
    "name": "ipython",
    "version": 3
   },
   "file_extension": ".py",
   "mimetype": "text/x-python",
   "name": "python",
   "nbconvert_exporter": "python",
   "pygments_lexer": "ipython3",
   "version": "3.8.18"
  },
  "orig_nbformat": 4,
  "vscode": {
   "interpreter": {
    "hash": "f70e9cfe00649ce5deb8d2753c25c6eaa4044293049b250b74de7174948c29c9"
   }
  }
 },
 "nbformat": 4,
 "nbformat_minor": 2
}
