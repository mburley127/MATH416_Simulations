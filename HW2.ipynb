{
 "cells": [
  {
   "cell_type": "code",
   "execution_count": 1,
   "metadata": {},
   "outputs": [],
   "source": [
    "### Load in Necessary Libraries\n",
    "\n",
    "import numpy as np\n",
    "import matplotlib.pyplot as plt\n",
    "import pandas as pd\n",
    "from scipy import random\n",
    "import math\n",
    "from scipy.integrate import quad, dblquad\n"
   ]
  },
  {
   "cell_type": "code",
   "execution_count": 2,
   "metadata": {},
   "outputs": [
    {
     "name": "stdout",
     "output_type": "stream",
     "text": [
      "x_1 = 22.0\n",
      "x_2 = 117.0\n",
      "x_3 = 192.0\n",
      "x_4 = 167.0\n",
      "x_5 = 42.0\n",
      "x_6 = 17.0\n",
      "x_7 = 92.0\n",
      "x_8 = 67.0\n",
      "x_9 = 142.0\n",
      "x_10 = 117.0\n"
     ]
    }
   ],
   "source": [
    "### CHAPTER 3, EXERCISE 2\n",
    "### If x_0 = 3, and x_n = (5x_(n-1)+7)mod200, calculate x_1,...,x_10\n",
    "\n",
    "# Set up variables and create array of zeros length n+1\n",
    "n = 10\n",
    "index = range(n+1)\n",
    "x = np.zeros(len(range(n+1)))\n",
    "x[0] = 3\n",
    "\n",
    "# Loop to compute difference equation\n",
    "for n in index[1:]:\n",
    "    x[n] = (5*x[n-1]+7)%200\n",
    "    print((\"x_\" + str(n)) + \" =\", x[n]) \n",
    "\n",
    "# Code adopted and adjusted from: https://stackoverflow.com/questions/68724386/how-to-solve-difference-equations-in-python-symbolically"
   ]
  },
  {
   "cell_type": "code",
   "execution_count": 3,
   "metadata": {},
   "outputs": [
    {
     "name": "stdout",
     "output_type": "stream",
     "text": [
      "The value calculated by monte carlo integration is 94.57833624420141\n",
      "93.16275329244199\n"
     ]
    }
   ],
   "source": [
    "### CHAPTER 3, EXERCISE 5\n",
    "### Use simulation to compute int(-2, 2) e^(x + x^2)dx and find the actual answer\n",
    "\n",
    "# Set limits of integration, and the number of trials\n",
    "a = -2\n",
    "b = 2\n",
    "N = 100000\n",
    "\n",
    "## Calculate MC Integration Answer\n",
    "# Create an array of zeros of length N\n",
    "ar = np.zeros(N)\n",
    "  \n",
    "# Filling each value of the array with generated random numbers\n",
    "for i in range (len(ar)):\n",
    "    ar[i] = random.uniform(a,b)\n",
    "  \n",
    "# Variable to store sum of the functions of different values of x\n",
    "integral = 0.0\n",
    "  \n",
    "# Input and return the desired function inside the integral\n",
    "def f(x):\n",
    "    return math.exp(x + x**2)\n",
    "  \n",
    "# Iterate and sum up values of different functions of x\n",
    "for i in ar:\n",
    "    integral += f(i)\n",
    "  \n",
    "# Generate calculated Monte Carlo Integration Answer\n",
    "ans_mc = (b-a)/float(N)*integral\n",
    "print (\"The value calculated by monte carlo integration is {}\".format(ans_mc))\n",
    "\n",
    "## Calculate actual answer\n",
    "def integrand(x):\n",
    "    return math.exp(x + x**2)\n",
    "\n",
    "ans, err = quad(integrand, a, b)\n",
    "print(ans)\n",
    "\n",
    "## Code adopted and adjusted from: https://www.geeksforgeeks.org/monte-carlo-integration-in-python/\n",
    "## Actual answer code adjusted from https://kitchingroup.cheme.cmu.edu/blog/2013/02/02/Integrating-functions-in-python/"
   ]
  },
  {
   "cell_type": "code",
   "execution_count": 4,
   "metadata": {},
   "outputs": [
    {
     "name": "stdout",
     "output_type": "stream",
     "text": [
      "The value calculated by monte carlo integration is 0.7474069163191903\n",
      "1.7724538509055159\n"
     ]
    }
   ],
   "source": [
    "### CHAPTER 3, EXERCISE 7\n",
    "### Use simulation to compute int(-inf, inf) e^(-x^2)dx and find the actual answer\n",
    "\n",
    "# Set limits of integration, and the number of trials\n",
    "a = 0\n",
    "b = 1\n",
    "c = -np.inf\n",
    "d = np.inf\n",
    "N = 100000\n",
    "\n",
    "## Calculate MC Integration Answer\n",
    "# Create an array of zeros of length N\n",
    "ar = np.zeros(N)\n",
    "  \n",
    "# Filling each value of the array with generated random numbers\n",
    "for i in range (len(ar)):\n",
    "    ar[i] = random.uniform(a,b)\n",
    "  \n",
    "# Variable to store sum of the functions of different values of x\n",
    "integral = 0.0\n",
    "  \n",
    "# Input and return the desired function inside the integral\n",
    "def f(x):\n",
    "    return math.exp(-x**2)\n",
    "  \n",
    "# Iterate and sum up values of different functions of x\n",
    "for i in ar:\n",
    "    integral += f(i)\n",
    "  \n",
    "# Generate calculated Monte Carlo Integration Answer\n",
    "ans_mc = (b-a)/float(N)*integral\n",
    "print (\"The value calculated by monte carlo integration is {}\".format(ans_mc))\n",
    "\n",
    "\n",
    "## Calculate actual answer\n",
    "def integrand(x):\n",
    "    return math.exp(-x**2)\n",
    "\n",
    "ans, err = quad(integrand, c, d)\n",
    "print(ans)\n",
    "\n",
    "## Code adopted and adjusted from: https://www.geeksforgeeks.org/monte-carlo-integration-in-python/\n",
    "## Actual answer code adjusted from https://kitchingroup.cheme.cmu.edu/blog/2013/02/02/Integrating-functions-in-python/"
   ]
  },
  {
   "cell_type": "code",
   "execution_count": 7,
   "metadata": {},
   "outputs": [
    {
     "name": "stdout",
     "output_type": "stream",
     "text": [
      "4.899158851087022\n"
     ]
    }
   ],
   "source": [
    "### CHAPTER 3, EXERCISE 8\n",
    "### Use simulation to compute int(0, 1)int(0, 1) e^(x + y)dydx and find the actual answer\n",
    "\n",
    "# Set limits of integration, and the number of trials\n",
    "a = 0\n",
    "b = 1\n",
    "c = 0\n",
    "d = 1\n",
    "\n",
    "## Calculate actual answer\n",
    "\n",
    "# In this case, y is the first argument, and x is the second\n",
    "def integrand(y, x):\n",
    "    return math.exp((x + y)**2)\n",
    "\n",
    "ans, err = dblquad(integrand, a, b, c, d)\n",
    "print(ans)\n",
    "\n",
    "## Actual answer code adjusted from https://kitchingroup.cheme.cmu.edu/blog/2013/02/02/Integrating-functions-in-python/"
   ]
  },
  {
   "cell_type": "code",
   "execution_count": 6,
   "metadata": {},
   "outputs": [],
   "source": [
    "### CHAPTER 4, EXERCISE 7\n",
    "### A pair of fair dice are to be continually rolled until all the possible \n",
    "### outcomes 2, 3, . . . , 12 have occurred at least once. Develop a simulation \n",
    "### study to estimate the expected number of dice rolls that are needed\n",
    "\n"
   ]
  }
 ],
 "metadata": {
  "kernelspec": {
   "display_name": "Python 3.8.5 ('base')",
   "language": "python",
   "name": "python3"
  },
  "language_info": {
   "codemirror_mode": {
    "name": "ipython",
    "version": 3
   },
   "file_extension": ".py",
   "mimetype": "text/x-python",
   "name": "python",
   "nbconvert_exporter": "python",
   "pygments_lexer": "ipython3",
   "version": "3.8.5"
  },
  "orig_nbformat": 4,
  "vscode": {
   "interpreter": {
    "hash": "f70e9cfe00649ce5deb8d2753c25c6eaa4044293049b250b74de7174948c29c9"
   }
  }
 },
 "nbformat": 4,
 "nbformat_minor": 2
}
