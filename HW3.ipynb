{
 "cells": [
  {
   "cell_type": "code",
   "execution_count": 15,
   "metadata": {},
   "outputs": [
    {
     "name": "stdout",
     "output_type": "stream",
     "text": [
      "The estimated mean given the CDF function is: 0.024923961974791423\n"
     ]
    }
   ],
   "source": [
    "### CHAPTER 5 EXERCISE 6\n",
    "### Generate 1000 such variables and use them to estimate E[X|X < 0.05] using CDF function\n",
    "\n",
    "# Load in necessary library\n",
    "import numpy as np\n",
    "\n",
    "# Set sample size, create array of size n with all zeros, set u as uniform dist\n",
    "n = 10000\n",
    "dist = np.zeros(n,dtype = np.float64)\n",
    "u = np.random.uniform(0, 1, n)\n",
    "\n",
    "# Loop to calculate each iteration of solutions then storing each in dist array\n",
    "for i in range(n):\n",
    "    dist[i] = (-1*np.log(1.0 - u[i]*(1-np.exp(-0.05))))\n",
    "\n",
    "# Taking the mean of all the outputs stored in dist array\n",
    "print(\"The estimated mean given the CDF function is: \" + str(dist.mean()))\n",
    "\n",
    "## Code adopted and adjusted from: https://stackoverflow.com/questions/54406678/wrong-distribution-from-inversecdf-transform-sampling"
   ]
  }
 ],
 "metadata": {
  "kernelspec": {
   "display_name": "Python 3.8.5 ('base')",
   "language": "python",
   "name": "python3"
  },
  "language_info": {
   "codemirror_mode": {
    "name": "ipython",
    "version": 3
   },
   "file_extension": ".py",
   "mimetype": "text/x-python",
   "name": "python",
   "nbconvert_exporter": "python",
   "pygments_lexer": "ipython3",
   "version": "3.8.5"
  },
  "orig_nbformat": 4,
  "vscode": {
   "interpreter": {
    "hash": "f70e9cfe00649ce5deb8d2753c25c6eaa4044293049b250b74de7174948c29c9"
   }
  }
 },
 "nbformat": 4,
 "nbformat_minor": 2
}
