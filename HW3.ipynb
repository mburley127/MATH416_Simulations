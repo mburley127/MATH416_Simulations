{
 "cells": [
  {
   "cell_type": "code",
   "execution_count": 1,
   "metadata": {},
   "outputs": [],
   "source": [
    "### CHAPTER 5, EXERCISE 6\n",
    "\n",
    "import numpy as np\n",
    "from numpy.random import random\n",
    "from scipy import interpolate\n",
    "import matplotlib.pyplot as plt\n",
    "import cProfile\n",
    "\n",
    "def f(x):\n",
    "    # does not need to be normalized\n",
    "    return np.exp(-x**2) * np.cos(3*x)**2 * (x-1)**4/np.cosh(1*x)\n",
    "\n",
    "def sample(g):\n",
    "    x = np.linspace(-5,5,1e5)\n",
    "    y = g(x)                        # probability density function, pdf\n",
    "    cdf_y = np.cumsum(y)            # cumulative distribution function, cdf\n",
    "    cdf_y = cdf_y/cdf_y.max()       # takes care of normalizing cdf to 1.0\n",
    "    inverse_cdf = interpolate.interp1d(cdf_y,x)    # this is a function\n",
    "    return inverse_cdf\n",
    "\n",
    "def return_samples(N=1e6):\n",
    "    # let's generate some samples according to the chosen pdf, f(x)\n",
    "    uniform_samples = random(int(N))\n",
    "    required_samples = sample(f)(uniform_samples)\n",
    "    return required_samples\n",
    "\n",
    "cProfile.run('return_samples()')"
   ]
  }
 ],
 "metadata": {
  "kernelspec": {
   "display_name": "Python 3.8.5 ('base')",
   "language": "python",
   "name": "python3"
  },
  "language_info": {
   "codemirror_mode": {
    "name": "ipython",
    "version": 3
   },
   "file_extension": ".py",
   "mimetype": "text/x-python",
   "name": "python",
   "nbconvert_exporter": "python",
   "pygments_lexer": "ipython3",
   "version": "3.8.5"
  },
  "orig_nbformat": 4,
  "vscode": {
   "interpreter": {
    "hash": "f70e9cfe00649ce5deb8d2753c25c6eaa4044293049b250b74de7174948c29c9"
   }
  }
 },
 "nbformat": 4,
 "nbformat_minor": 2
}
